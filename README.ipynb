{
 "cells": [
  {
   "cell_type": "markdown",
   "metadata": {},
   "source": [
    "# Como configurar/instalar/usar o `listar as pastas dentro de outra com o maior volume de dados` no `Linux Ubuntu`\n",
    "\n",
    "## Resumo\n",
    "\n",
    "Neste documento estão contidos os principais comandos e configurações para configurar/instalar/usar o `listar as pastas dentro de outra com o maior volume de dados` no `Linux Ubuntu`.\n",
    "\n",
    "## _Abstract_\n",
    "\n",
    "_This document contains the main commands and settings for configuring/installing/using the `list the folders within another with the largest volume of data` on `Linux Ubuntu`._"
   ]
  },
  {
   "cell_type": "markdown",
   "metadata": {},
   "source": [
    "## Descrição [2]\n",
    "\n",
    "### `Pasta`\n",
    "\n",
    "Uma pasta, no contexto de sistemas operacionais e gerenciamento de arquivos, é uma estrutura de armazenamento que organiza e agrupa arquivos e outras pastas. Também conhecida como diretório, a pasta facilita a organização e a localização de arquivos, permitindo que os usuários criem uma hierarquia de dados. As pastas podem conter documentos, imagens, programas e outros tipos de arquivos, e podem ser estruturadas de forma a refletir a organização desejada pelo usuário, tornando a navegação e o gerenciamento de arquivos mais eficiente.\n"
   ]
  },
  {
   "cell_type": "markdown",
   "metadata": {},
   "source": [
    "## 1. Como configurar/instalar/usar o `listar as pastas dentro de outra com o maior volume de dados` no `Linux Ubuntu` [1][3]\n",
    "\n",
    "Para configurar/instalar/usar o `listar as pastas dentro de outra com o maior volume de dados` no `Linux Ubuntu`, você pode seguir estes passos:\n",
    "\n",
    "1. Abra o `Terminal Emulator`. Você pode fazer isso pressionando: `Ctrl + Alt + T`"
   ]
  },
  {
   "cell_type": "markdown",
   "metadata": {},
   "source": [
    "2. Certifique-se de que seu sistema esteja limpo e atualizado.\n",
    "\n",
    "    2.1 Limpar o `cache` do gerenciador de pacotes `apt`. Especificamente, ele remove todos os arquivos de pacotes (`.deb`) baixados pelo `apt` e armazenados em `/var/cache/apt/archives/`. Digite o seguinte comando:\n",
    "    \n",
    "    ```bash\n",
    "    sudo apt clean\n",
    "    ``` \n",
    "    \n",
    "    2.2 Remover pacotes `.deb` antigos ou duplicados do cache local. É útil para liberar espaço, pois remove apenas os pacotes que não podem mais ser baixados (ou seja, versões antigas de pacotes que foram atualizados). Digite o seguinte comando:\n",
    "    \n",
    "    ```bash\n",
    "    sudo apt autoclean\n",
    "    ```\n",
    "\n",
    "    2.3 Remover pacotes que foram automaticamente instalados para satisfazer as dependências de outros pacotes e que não são mais necessários. Digite o seguinte comando:\n",
    "    \n",
    "    ```bash\n",
    "    sudo apt autoremove -y\n",
    "    ```\n",
    "\n",
    "    2.4 Buscar as atualizações disponíveis para os pacotes que estão instalados em seu sistema. Digite o seguinte comando e pressione `Enter`: \n",
    "    \n",
    "    ```bash\n",
    "    sudo apt update\n",
    "    ```\n",
    "\n",
    "    2.5 **Corrigir pacotes quebrados**: Isso atualizará a lista de pacotes disponíveis e tentará corrigir pacotes quebrados ou com dependências ausentes:\n",
    "    \n",
    "    ```bash\n",
    "    sudo apt --fix-broken install\n",
    "    ```\n",
    "\n",
    "    2.6 Limpar o `cache` do gerenciador de pacotes `apt`. Especificamente, ele remove todos os arquivos de pacotes (`.deb`) baixados pelo `apt` e armazenados em `/var/cache/apt/archives/`. Digite o seguinte comando:\n",
    "    \n",
    "    ```bash\n",
    "    sudo apt clean\n",
    "    ``` \n",
    "    \n",
    "    2.7 Para ver a lista de pacotes a serem atualizados, digite o seguinte comando e pressione `Enter`:  \n",
    "    \n",
    "    ```bash\n",
    "    sudo apt list --upgradable\n",
    "    ```\n",
    "\n",
    "    2.8 Realmente atualizar os pacotes instalados para as suas versões mais recentes, com base na última vez que você executou `sudo apt update`. Digite o seguinte comando e pressione `Enter`:\n",
    "    \n",
    "    ```bash\n",
    "    sudo apt full-upgrade -y\n",
    "    ```"
   ]
  },
  {
   "cell_type": "markdown",
   "metadata": {},
   "source": [
    "3. Para listar as pastas dentro de, por exemplo, `home` com maior volume de dados no `Linux Ubuntu`, você pode usar o comando du (`disk usage`) em conjunto com outros comandos como `sort` e `head` para ordenar e exibir as pastas com maior volume de dados. Aqui está o comando que você pode usar no `Terminal Emulator`:\n",
    "\n",
    "    ```bash\n",
    "    sudo du -sh /home/* | sort -rh | head -n 10\n",
    "    ```\n",
    "\n",
    "    3.1 Para listar as pastas dentro de, por exemplo, `/` com maior volume de dados no `Linux Ubuntu`, você pode usar o comando du (`disk usage`) em conjunto com outros comandos como `sort` e `head` para ordenar e exibir as pastas com maior volume de dados. Aqui está o comando que você pode usar no `Terminal Emulator`:\n",
    "    \n",
    "    ```bash\n",
    "    sudo du -sh /* | sort -rh | head -n 10\n",
    "    ```\n",
    "\n",
    "\n",
    "Vamos explicar o que cada parte do comando faz:\n",
    "\n",
    "1. **`du -sh /home/*`**: Calcula o uso de disco para cada diretório dentro de `/home`, exibindo o resultado em um formato legível (`-h` para `human-readable`) e resumido (`-s` para `summary`).\n",
    "\n",
    "2. **`sort -rh`**: Ordena o resultado em ordem decrescente (`-r` para reverse) com base no tamanho, interpretando os tamanhos de forma legível por humanos (`-h`).\n",
    "\n",
    "3. **`head -n 10`**: Exibe as 10 primeiras linhas do resultado, que correspondem às 10 pastas com maior volume de dados.\n",
    "\n",
    "Executando esse comando no seu `Terminal Emulator`, você obterá uma lista das pastas dentro de `/home` com maior volume de dados, ordenadas de forma decrescente.\n"
   ]
  },
  {
   "cell_type": "markdown",
   "metadata": {
    "vscode": {
     "languageId": "plaintext"
    }
   },
   "source": [
    "### 1.1 Código completo para configurar/instalar/usar\n",
    "\n",
    "Para configurar/instalar/usar o `listar as pastas dentro de outra com o maior volume de dados` no `Linux Ubuntu` sem precisar digitar linha por linha, você pode seguir estas etapas:\n",
    "\n",
    "1. Abra o `Terminal Emulator`. Você pode fazer isso pressionando: `Ctrl + Alt + T`\n",
    "\n",
    "2. Digite o seguinte comando e pressione `Enter`:\n",
    "\n",
    "    ```\n",
    "    NÃO há.\n",
    "    ```\n"
   ]
  },
  {
   "cell_type": "markdown",
   "metadata": {
    "vscode": {
     "languageId": "plaintext"
    }
   },
   "source": [
    "No `Linux Ubuntu`, há várias pastas que podem acumular arquivos desnecessários ao longo do tempo e que podem ser limpas com segurança. No entanto, é importante ter cuidado para não excluir arquivos importantes para o funcionamento do sistema ou dos aplicativos. Aqui estão algumas pastas que é conveniente limpar regularmente:\n",
    "\n",
    "1. **`/tmp`**: **Descrição**: A pasta `/tmp` é usada para armazenar arquivos temporários que são criados e usados por programas em execução. O sistema limpa essa pasta periodicamente, mas você pode limpá-la manualmente. Como limpar:\n",
    "\n",
    "    ```bash\n",
    "    sudo rm -rf /tmp/*\n",
    "    ```\n",
    "\n",
    "2. **`/var/tmp`**: **Descrição**: Similar à `/tmp`, mas os arquivos aqui são mantidos por um período mais longo antes de serem excluídos automaticamente. Como limpar:\n",
    "    \n",
    "    ```bash\n",
    "    sudo rm -rf /var/tmp/*\n",
    "    ```\n",
    "\n",
    "3. **`/var/cache/apt/archives`**: **Descrição**: Essa pasta armazena os pacotes `.deb` baixados durante as atualizações e instalações de _software_ usando o `apt`. Os arquivos aqui podem ser removidos após a instalação. Como limpar:\n",
    "\n",
    "    ```bash\n",
    "    sudo apt-get clean\n",
    "    ```\n",
    "\n",
    "4. **`/var/log`**: **Descrição**: Essa pasta contém arquivos de _log_ do sistema. Alguns _logs_ podem crescer muito com o tempo, ocupando espaço em disco. Como limpar:\n",
    "\n",
    "    4.1 **Para remover _logs_ antigos**:\n",
    "    \n",
    "    ```bash\n",
    "    sudo journalctl --vacuum-time=2weeks\n",
    "    ```\n",
    "\n",
    "    4.2 **Para limpar todos os _logs_ (use com cuidado)**:\n",
    "    \n",
    "    ```bash\n",
    "    sudo rm -rf /var/log/*\n",
    "    ```\n",
    "\n",
    "5. **_Cache_ de navegadores**: **Descrição**: Navegadores como `Firefox` e `Chrome` armazenam caches locais para acelerar o carregamento de páginas. Esses _caches_ podem crescer bastante. Como limpar:\n",
    "\n",
    "    5.1 **No `Firefox`**: Vá para `Configurações > Privacidade & Segurança > Cookies e dados do site > Limpar dados`.\n",
    "\n",
    "    5.2 **No `Chrome`**: Vá para `Configurações > Privacidade e segurança > Limpar dados de navegação.`\n",
    "\n",
    "6. **Arquivos de _cache_ no diretório do usuário**: **Descrição**: Muitos aplicativos criam caches no diretório do usuário, geralmente em `~/.cache`. Esses arquivos podem ser excluídos com segurança, mas alguns aplicativos podem precisar recriar o _cache_ posteriormente. Como limpar:\n",
    "\n",
    "    ```bash\n",
    "    sudo rm -rf ~/.cache/*\n",
    "    ```\n",
    "\n",
    "7. **`/var/crash`**: **Descrição**: Contém relatórios de falhas de aplicativos. Se nenhum programa estiver travando, você pode limpá-lo. Como limpar:\n",
    "\n",
    "    ```bash\n",
    "    sudo rm -rf /var/crash/*\n",
    "    ```\n",
    "\n",
    "8. **Arquivos órfãos**: Descrição: Pacotes instalados como dependências que **NÃO** são mais necessários. Como limpar:\n",
    "\n",
    "    ```bash\n",
    "    sudo apt-get autoremove\n",
    "    ```\n",
    "\n",
    "9. **`~/.local/share/Trash`**: Descrição: Diretório que armazena os arquivos enviados para a lixeira pelo ambiente gráfico (como `Nautilus`, `Thunar`, `Dolphin` etc.). Ele é composto por duas subpastas principais: `files/`, onde ficam os arquivos excluídos, e `info/`, que contém metadados como o caminho original e a data de exclusão. A lixeira pode ocupar bastante espaço se **NÃO** for esvaziada regularmente, principalmente após exclusão de arquivos grandes. Como limpar:\n",
    "\n",
    "    ```bash\n",
    "    rm -rf ~/.local/share/Trash/files/*\n",
    "    rm -rf ~/.local/share/Trash/info/*\n",
    "    ```\n",
    "\n",
    "    - **Vantagens**:\n",
    "\n",
    "        - Mantém a estrutura de pastas esperada pelo sistema (`files/` e `info/`)\n",
    "\n",
    "        - Evita erros ou _bugs_ em alguns gerenciadores de arquivos que esperam essas subpastas existirem\n",
    "\n",
    "10. Verifique se você tem o `timeshift` instalado e se este possui imagens de _backups_  que podem ser excluídas para liberar mais espaço no seu computador.\n",
    "\n",
    "**Dica Adicional**\n",
    "\n",
    "**`BleachBit`**: Uma ferramenta gráfica que ajuda a limpar o sistema, removendo _caches_, _logs_, e arquivos temporários de maneira segura.\n",
    "\n",
    "Lembre-se de fazer _backup_ ou revisar o conteúdo antes de deletar qualquer coisa, especialmente em pastas que você não tem certeza sobre o propósito."
   ]
  },
  {
   "cell_type": "markdown",
   "metadata": {},
   "source": [
    "## Como usar o `clean_system.py`\n",
    "\n",
    "O arquivo `docs/clean_system.py` automatiza tarefas de limpeza do sistema, removendo caches e arquivos temporários.\n",
    "Execute o script com Python:\n",
    "\n",
    "```bash\n",
    "python docs/clean_system.py\n",
    "```\n",
    "\n",
    "Algumas etapas exigem privilégios de `sudo`, portanto você pode ser solicitado a informar a senha de administrador.\n"
   ]
  },
  {
   "cell_type": "code",
   "execution_count": null,
   "metadata": {
    "vscode": {
     "languageId": "plaintext"
    }
   },
   "outputs": [],
   "source": [
    "## Excluir todas as pastas e subpastas pelo `Terminal Emulator`\n",
    "\n",
    "Para excluir todas as pastas e subpastas chamadas, por exemplo `0_BACKUP`, dentro de `/home/edenedfsls/Documents/`, você pode usar o comando abaixo no seu Terminal Emulator:\n",
    "\n",
    "```bash\n",
    "find /home/edenedfsls/Documents/ -type d -name '0_BACKUP' -exec echo \"Deleting: {}\" \\; -exec rm -rf {} \\;\n",
    "```\n",
    "\n",
    "**Explicação**:\n",
    "- `find`: comando usado para localizar arquivos e diretórios.\n",
    "\n",
    "- `/home/edenedfsls/Documents/`: caminho base onde a busca será feita.\n",
    "\n",
    "- `-type d`: procura apenas por diretórios (pastas).\n",
    "\n",
    "- `-name '0_BACKUP'`: procura por pastas com exatamente esse nome.\n",
    "\n",
    "- `-exec rm -rf {} +`: para cada pasta encontrada, executa o comando `rm -rf` para removê-la com todo o conteúdo.\n",
    "\n",
    "**Atenção**:\n",
    "\n",
    "Este comando apaga permanentemente todas as pastas chamadas 0_BACKUP e seus conteúdos, sem confirmação.\n",
    "\n",
    "Se quiser ver a lista antes de excluir, execute primeiro:\n",
    "\n",
    "```bash\n",
    "find /home/edenedfsls/Documents/ -type d -name '0_BACKUP'\n",
    "```"
   ]
  },
  {
   "cell_type": "markdown",
   "metadata": {},
   "source": [
    "### Explicação do script de limpeza do sistema",
    "",
    "O script abaixo automatiza a remoção segura de arquivos temporários e logs no Ubuntu. Ele ativa `set -euo pipefail` para interromper a execução em caso de erros ou variáveis não definidas e, em seguida, realiza as seguintes etapas:",
    "",
    "1. Remove o conteúdo de `/tmp` e `/var/tmp`.",
    "2. Limpa o cache do APT com `apt-get clean`.",
    "3. Trunca arquivos de log principais (como `syslog`, `auth.log` e `kern.log`) em vez de apagá-los.",
    "4. Exclui logs rotacionados e compactados em `/var/log`.",
    "5. Reduz o tamanho dos logs do `journalctl` para 500 MB.",
    "6. Força a rotação de logs com `logrotate`.",
    "7. Remove arquivos em `~/.cache` e relatórios de falha em `/var/crash`.",
    "8. Executa `apt-get autoremove` para remover pacotes órfãos.",
    "9. Esvazia a lixeira do usuário.",
    "",
    "Ao final, o script recomenda verificar snapshots antigos do Timeshift, sugere o uso do BleachBit para limpeza gráfica e mostra o espaço ocupado em `/var/log` com `du -sh`.",
    ""
   ]
  },
  {
   "cell_type": "markdown",
   "metadata": {
    "vscode": {
     "languageId": "plaintext"
    }
   },
   "source": [
    "## Referências\n",
    "\n",
    "[1] OPENAI. ***Listar pastas maiores linux.*** Disponível em: <https://chatgpt.com/c/eb532506-f911-4eb4-a483-6e060cd00863> (texto adaptado). Acessado em: 25/07/2024 13:33.\n",
    "\n",
    "[2] OPENAI. ***Vs code: editor popular.*** Disponível em: <https://chat.openai.com/c/b640a25d-f8e3-4922-8a3b-ed74a2657e42> (texto adaptado). Acessado em: 25/07/2024 13:33.\n"
   ]
  }
 ],
 "metadata": {
  "kernelspec": {
   "display_name": "Python 3",
   "language": "python",
   "name": "python3"
  },
  "language_info": {
   "codemirror_mode": {
    "name": "ipython",
    "version": 3
   },
   "file_extension": ".py",
   "mimetype": "text/x-python",
   "name": "python",
   "nbconvert_exporter": "python",
   "pygments_lexer": "ipython3",
   "version": "3.11.8"
  },
  "orig_nbformat": 4
 },
 "nbformat": 4,
 "nbformat_minor": 2
}